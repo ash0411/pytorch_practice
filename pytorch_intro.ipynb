{
  "nbformat": 4,
  "nbformat_minor": 0,
  "metadata": {
    "colab": {
      "name": "pytorch_intro.ipynb",
      "provenance": [],
      "collapsed_sections": [
        "bLEQU9W4M3Fs",
        "fe61PpkPM8YP"
      ]
    },
    "kernelspec": {
      "name": "python3",
      "display_name": "Python 3"
    },
    "language_info": {
      "name": "python"
    }
  },
  "cells": [
    {
      "cell_type": "markdown",
      "metadata": {
        "id": "bLEQU9W4M3Fs"
      },
      "source": [
        "# tensor intro"
      ]
    },
    {
      "cell_type": "code",
      "metadata": {
        "id": "5MahPCbdGii8"
      },
      "source": [
        "import torch \n",
        "import numpy as np"
      ],
      "execution_count": 1,
      "outputs": []
    },
    {
      "cell_type": "code",
      "metadata": {
        "id": "SowdUl97Gwz1"
      },
      "source": [
        "# creating tensor\n",
        "#1. directly from the data \n",
        "a = [[1,2,3],[3,4,5]]\n",
        "a_tensor = torch.tensor(a)"
      ],
      "execution_count": 2,
      "outputs": []
    },
    {
      "cell_type": "code",
      "metadata": {
        "id": "pIxILxIsG-xe"
      },
      "source": [
        "#2. From a numpy array\n",
        "np_array = np.array(a)\n",
        "a_np = torch.from_numpy(np_array)"
      ],
      "execution_count": 3,
      "outputs": []
    },
    {
      "cell_type": "code",
      "metadata": {
        "colab": {
          "base_uri": "https://localhost:8080/"
        },
        "id": "HqYi_kuCHOhb",
        "outputId": "c6c0542c-d5ee-47fb-ed37-609ba174bbf4"
      },
      "source": [
        "#3 from another tensor\n",
        "a_ones = torch.ones_like(a_tensor) # this retains the properties of a\n",
        "print(\"this is a ones tensor\",a_ones)\n",
        "a_rand = torch.rand_like(a_tensor,dtype = torch.float)# overides the initail int datatype\n",
        "print(\"this is a random tensor\",a_rand)"
      ],
      "execution_count": 7,
      "outputs": [
        {
          "output_type": "stream",
          "text": [
            "this is a ones tensor tensor([[1, 1, 1],\n",
            "        [1, 1, 1]])\n",
            "this is a random tensor tensor([[0.7649, 0.3820, 0.8107],\n",
            "        [0.6353, 0.9511, 0.3196]])\n"
          ],
          "name": "stdout"
        }
      ]
    },
    {
      "cell_type": "code",
      "metadata": {
        "colab": {
          "base_uri": "https://localhost:8080/"
        },
        "id": "3KTO_379Hp1e",
        "outputId": "90161ffc-5e45-4ef6-fdd4-11cadad7d9a5"
      },
      "source": [
        "shape = (2,3,4)\n",
        "rand_tensor = torch.rand(shape)\n",
        "ones_tensor = torch.ones(shape)\n",
        "zeros_tensor = torch.zeros(shape)\n",
        "\n",
        "print(f\"Random Tensor: \\n {rand_tensor} \\n\")\n",
        "print(f\"Ones Tensor: \\n {ones_tensor} \\n\")\n",
        "print(f\"Zeros Tensor: \\n {zeros_tensor}\")"
      ],
      "execution_count": 8,
      "outputs": [
        {
          "output_type": "stream",
          "text": [
            "Random Tensor: \n",
            " tensor([[[0.4659, 0.3526, 0.2570, 0.5158],\n",
            "         [0.2458, 0.8133, 0.1595, 0.5600],\n",
            "         [0.3577, 0.5411, 0.1838, 0.8380]],\n",
            "\n",
            "        [[0.7755, 0.1488, 0.2098, 0.1868],\n",
            "         [0.4174, 0.7444, 0.4500, 0.9876],\n",
            "         [0.4256, 0.6154, 0.9582, 0.7788]]]) \n",
            "\n",
            "Ones Tensor: \n",
            " tensor([[[1., 1., 1., 1.],\n",
            "         [1., 1., 1., 1.],\n",
            "         [1., 1., 1., 1.]],\n",
            "\n",
            "        [[1., 1., 1., 1.],\n",
            "         [1., 1., 1., 1.],\n",
            "         [1., 1., 1., 1.]]]) \n",
            "\n",
            "Zeros Tensor: \n",
            " tensor([[[0., 0., 0., 0.],\n",
            "         [0., 0., 0., 0.],\n",
            "         [0., 0., 0., 0.]],\n",
            "\n",
            "        [[0., 0., 0., 0.],\n",
            "         [0., 0., 0., 0.],\n",
            "         [0., 0., 0., 0.]]])\n"
          ],
          "name": "stdout"
        }
      ]
    },
    {
      "cell_type": "code",
      "metadata": {
        "colab": {
          "base_uri": "https://localhost:8080/"
        },
        "id": "xofY4MWHIHRQ",
        "outputId": "357a8f2d-ca11-4337-b886-4335d3d25628"
      },
      "source": [
        "# attributes of tensor\n",
        "tensor = torch.rand(2,3,4)\n",
        "\n",
        "print(f\"Shape of tensor: {tensor.shape}\")\n",
        "print(f\"Datatype of tensor: {tensor.dtype}\")\n",
        "print(f\"Device tensor is stored on: {tensor.device}\")"
      ],
      "execution_count": 9,
      "outputs": [
        {
          "output_type": "stream",
          "text": [
            "Shape of tensor: torch.Size([2, 3, 4])\n",
            "Datatype of tensor: torch.float32\n",
            "Device tensor is stored on: cpu\n"
          ],
          "name": "stdout"
        }
      ]
    },
    {
      "cell_type": "code",
      "metadata": {
        "colab": {
          "base_uri": "https://localhost:8080/"
        },
        "id": "kwkjRkVzIkf2",
        "outputId": "5e65ebf2-f329-4b61-a797-ab076d412640"
      },
      "source": [
        "# We move our tensor to the GPU if available\n",
        "if torch.cuda.is_available():\n",
        "  tensor = tensor.to('cuda')\n",
        "else:\n",
        "  print(\"gpu not available\")"
      ],
      "execution_count": 11,
      "outputs": [
        {
          "output_type": "stream",
          "text": [
            "gpu not available\n"
          ],
          "name": "stdout"
        }
      ]
    },
    {
      "cell_type": "code",
      "metadata": {
        "colab": {
          "base_uri": "https://localhost:8080/"
        },
        "id": "jj-d8th_JNRp",
        "outputId": "842a26fb-3334-4845-ed36-e9d37a044f46"
      },
      "source": [
        "# performing operation on tensor similiar ot list\n",
        "tensor = torch.ones(4, 4)\n",
        "tensor[:,2:-1] = 0\n",
        "print(tensor)"
      ],
      "execution_count": 13,
      "outputs": [
        {
          "output_type": "stream",
          "text": [
            "tensor([[1., 1., 0., 1.],\n",
            "        [1., 1., 0., 1.],\n",
            "        [1., 1., 0., 1.],\n",
            "        [1., 1., 0., 1.]])\n"
          ],
          "name": "stdout"
        }
      ]
    },
    {
      "cell_type": "code",
      "metadata": {
        "colab": {
          "base_uri": "https://localhost:8080/"
        },
        "id": "ZSZDE4yQJcPH",
        "outputId": "480ae36f-e935-4b42-aa3d-e13ee8134e3f"
      },
      "source": [
        "# performing concatination\n",
        "tensor1 = torch.ones(4,4)\n",
        "t1 = torch.cat([tensor, tensor, tensor1], dim=0)\n",
        "print(t1)"
      ],
      "execution_count": 25,
      "outputs": [
        {
          "output_type": "stream",
          "text": [
            "tensor([[1., 0., 1., 1.],\n",
            "        [1., 0., 1., 1.],\n",
            "        [1., 0., 1., 1.],\n",
            "        [1., 0., 1., 1.],\n",
            "        [1., 0., 1., 1.],\n",
            "        [1., 0., 1., 1.],\n",
            "        [1., 0., 1., 1.],\n",
            "        [1., 0., 1., 1.],\n",
            "        [1., 1., 1., 1.],\n",
            "        [1., 1., 1., 1.],\n",
            "        [1., 1., 1., 1.],\n",
            "        [1., 1., 1., 1.]])\n"
          ],
          "name": "stdout"
        }
      ]
    },
    {
      "cell_type": "code",
      "metadata": {
        "colab": {
          "base_uri": "https://localhost:8080/"
        },
        "id": "6q2jwEW4JwC0",
        "outputId": "f6fbf03e-b3a2-4361-ea3f-340255840396"
      },
      "source": [
        "# This computes the element-wise product\n",
        "print(f\"tensor.mul(tensor) \\n {tensor.mul(tensor1)} \\n\")\n",
        "# Alternative syntax:\n",
        "print(f\"tensor * tensor \\n {tensor * tensor1}\")"
      ],
      "execution_count": 26,
      "outputs": [
        {
          "output_type": "stream",
          "text": [
            "tensor.mul(tensor) \n",
            " tensor([[1., 0., 1., 1.],\n",
            "        [1., 0., 1., 1.],\n",
            "        [1., 0., 1., 1.],\n",
            "        [1., 0., 1., 1.]]) \n",
            "\n",
            "tensor * tensor \n",
            " tensor([[1., 0., 1., 1.],\n",
            "        [1., 0., 1., 1.],\n",
            "        [1., 0., 1., 1.],\n",
            "        [1., 0., 1., 1.]])\n"
          ],
          "name": "stdout"
        }
      ]
    },
    {
      "cell_type": "code",
      "metadata": {
        "colab": {
          "base_uri": "https://localhost:8080/"
        },
        "id": "cnHTg6ZDKhP5",
        "outputId": "2761a653-6d8f-4907-87ad-960747eed652"
      },
      "source": [
        "# this preforms matrix wise multiplication\n",
        "print(f\"tensor.matmul(tensor.T) \\n {tensor.matmul(tensor1.T)} \\n\")\n",
        "# Alternative syntax:\n",
        "print(f\"tensor @ tensor.T \\n {tensor @ tensor1.T}\")"
      ],
      "execution_count": 28,
      "outputs": [
        {
          "output_type": "stream",
          "text": [
            "tensor.matmul(tensor.T) \n",
            " tensor([[3., 3., 3., 3.],\n",
            "        [3., 3., 3., 3.],\n",
            "        [3., 3., 3., 3.],\n",
            "        [3., 3., 3., 3.]]) \n",
            "\n",
            "tensor @ tensor.T \n",
            " tensor([[3., 3., 3., 3.],\n",
            "        [3., 3., 3., 3.],\n",
            "        [3., 3., 3., 3.],\n",
            "        [3., 3., 3., 3.]])\n"
          ],
          "name": "stdout"
        }
      ]
    },
    {
      "cell_type": "code",
      "metadata": {
        "colab": {
          "base_uri": "https://localhost:8080/"
        },
        "id": "ij9hmWJGKn0W",
        "outputId": "84bc15a4-0865-4f61-e5fd-03564453482f"
      },
      "source": [
        "# in place operators where _ suffix wil change a\n",
        "print(tensor, \"\\n\")\n",
        "tensor.add_(5)\n",
        "print(tensor)\n",
        "# there use is discoraged because of immediate loss of history"
      ],
      "execution_count": 29,
      "outputs": [
        {
          "output_type": "stream",
          "text": [
            "tensor([[1., 0., 1., 1.],\n",
            "        [1., 0., 1., 1.],\n",
            "        [1., 0., 1., 1.],\n",
            "        [1., 0., 1., 1.]]) \n",
            "\n",
            "tensor([[6., 5., 6., 6.],\n",
            "        [6., 5., 6., 6.],\n",
            "        [6., 5., 6., 6.],\n",
            "        [6., 5., 6., 6.]])\n"
          ],
          "name": "stdout"
        }
      ]
    },
    {
      "cell_type": "code",
      "metadata": {
        "colab": {
          "base_uri": "https://localhost:8080/"
        },
        "id": "0MBMkYXBK_cN",
        "outputId": "0f784c97-14f7-44a4-9bb0-02cb1ed3cf5c"
      },
      "source": [
        "# tensor on cpu and numpy can share memory location\n",
        "t = torch.ones(5)\n",
        "print(f\"t: {t}\")\n",
        "n = t.numpy()\n",
        "print(f\"n: {n}\")"
      ],
      "execution_count": 30,
      "outputs": [
        {
          "output_type": "stream",
          "text": [
            "t: tensor([1., 1., 1., 1., 1.])\n",
            "n: [1. 1. 1. 1. 1.]\n"
          ],
          "name": "stdout"
        }
      ]
    },
    {
      "cell_type": "code",
      "metadata": {
        "colab": {
          "base_uri": "https://localhost:8080/"
        },
        "id": "fUHdWi1yLZIC",
        "outputId": "1e7acc54-1193-462b-db63-484109468a48"
      },
      "source": [
        "# but a change in tensor will reflect a change in numpys\n",
        "t.add_(4)\n",
        "print(t)\n",
        "print(n)"
      ],
      "execution_count": 32,
      "outputs": [
        {
          "output_type": "stream",
          "text": [
            "tensor([5., 5., 5., 5., 5.])\n",
            "[5. 5. 5. 5. 5.]\n"
          ],
          "name": "stdout"
        }
      ]
    },
    {
      "cell_type": "code",
      "metadata": {
        "id": "ZtP24BxmLood"
      },
      "source": [
        "# similiarly numpy array can be converted to tensor\n",
        "b = np.ones((4,4))\n",
        "t = torch.from_numpy(b)\n",
        "# but changes in array will also affect changes in tensor and vice versa"
      ],
      "execution_count": 37,
      "outputs": []
    },
    {
      "cell_type": "code",
      "metadata": {
        "colab": {
          "base_uri": "https://localhost:8080/"
        },
        "id": "Bwgm9CY2MJL1",
        "outputId": "7b6329d9-c0bb-4732-bbf7-88c614026311"
      },
      "source": [
        "np.add(b,1,out = b)"
      ],
      "execution_count": 38,
      "outputs": [
        {
          "output_type": "execute_result",
          "data": {
            "text/plain": [
              "array([[2., 2., 2., 2.],\n",
              "       [2., 2., 2., 2.],\n",
              "       [2., 2., 2., 2.],\n",
              "       [2., 2., 2., 2.]])"
            ]
          },
          "metadata": {
            "tags": []
          },
          "execution_count": 38
        }
      ]
    },
    {
      "cell_type": "code",
      "metadata": {
        "colab": {
          "base_uri": "https://localhost:8080/"
        },
        "id": "E2-MFi9kMkpV",
        "outputId": "d15b9f32-8de5-4f34-f6ad-130b3dd4ebb0"
      },
      "source": [
        "print(b)\n",
        "print(t)"
      ],
      "execution_count": 39,
      "outputs": [
        {
          "output_type": "stream",
          "text": [
            "[[2. 2. 2. 2.]\n",
            " [2. 2. 2. 2.]\n",
            " [2. 2. 2. 2.]\n",
            " [2. 2. 2. 2.]]\n",
            "tensor([[2., 2., 2., 2.],\n",
            "        [2., 2., 2., 2.],\n",
            "        [2., 2., 2., 2.],\n",
            "        [2., 2., 2., 2.]], dtype=torch.float64)\n"
          ],
          "name": "stdout"
        }
      ]
    },
    {
      "cell_type": "code",
      "metadata": {
        "colab": {
          "base_uri": "https://localhost:8080/"
        },
        "id": "H2FuS6JuMozu",
        "outputId": "6080ea24-9a49-4698-d013-78588c7315aa"
      },
      "source": [
        "t.add_(23)"
      ],
      "execution_count": 40,
      "outputs": [
        {
          "output_type": "execute_result",
          "data": {
            "text/plain": [
              "tensor([[25., 25., 25., 25.],\n",
              "        [25., 25., 25., 25.],\n",
              "        [25., 25., 25., 25.],\n",
              "        [25., 25., 25., 25.]], dtype=torch.float64)"
            ]
          },
          "metadata": {
            "tags": []
          },
          "execution_count": 40
        }
      ]
    },
    {
      "cell_type": "code",
      "metadata": {
        "colab": {
          "base_uri": "https://localhost:8080/"
        },
        "id": "WMW2iUAZMuTF",
        "outputId": "d240fd3d-6fbe-4606-d309-c371085c4280"
      },
      "source": [
        "print(b)\n",
        "print(t)"
      ],
      "execution_count": 41,
      "outputs": [
        {
          "output_type": "stream",
          "text": [
            "[[25. 25. 25. 25.]\n",
            " [25. 25. 25. 25.]\n",
            " [25. 25. 25. 25.]\n",
            " [25. 25. 25. 25.]]\n",
            "tensor([[25., 25., 25., 25.],\n",
            "        [25., 25., 25., 25.],\n",
            "        [25., 25., 25., 25.],\n",
            "        [25., 25., 25., 25.]], dtype=torch.float64)\n"
          ],
          "name": "stdout"
        }
      ]
    },
    {
      "cell_type": "markdown",
      "metadata": {
        "id": "fe61PpkPM8YP"
      },
      "source": [
        "# intro to autograd"
      ]
    },
    {
      "cell_type": "code",
      "metadata": {
        "id": "uC6bqO4TMxFM"
      },
      "source": [
        ""
      ],
      "execution_count": null,
      "outputs": []
    },
    {
      "cell_type": "code",
      "metadata": {
        "id": "WUh5flDdM7uN"
      },
      "source": [
        ""
      ],
      "execution_count": null,
      "outputs": []
    }
  ]
}